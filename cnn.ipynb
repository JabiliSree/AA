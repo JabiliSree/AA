{
  "nbformat": 4,
  "nbformat_minor": 0,
  "metadata": {
    "colab": {
      "provenance": [],
      "authorship_tag": "ABX9TyM9RzZn8AkCK5OMdre0X0S8",
      "include_colab_link": true
    },
    "kernelspec": {
      "name": "python3",
      "display_name": "Python 3"
    },
    "language_info": {
      "name": "python"
    }
  },
  "cells": [
    {
      "cell_type": "markdown",
      "metadata": {
        "id": "view-in-github",
        "colab_type": "text"
      },
      "source": [
        "<a href=\"https://colab.research.google.com/github/JabiliSree/AA/blob/main/cnn.ipynb\" target=\"_parent\"><img src=\"https://colab.research.google.com/assets/colab-badge.svg\" alt=\"Open In Colab\"/></a>"
      ]
    },
    {
      "cell_type": "code",
      "source": [
        "import tensorflow as tf\n",
        "from tensorflow.keras import layers, models\n",
        "from tensorflow.keras.datasets import cifar10\n",
        "from tensorflow.keras.utils import to_categorical\n",
        "(x_train, y_train), (x_test, y_test) = cifar10.load_data()\n",
        "x_train, x_test = x_train / 255.0, x_test / 255.0\n",
        "y_train = to_categorical(y_train, 10)\n",
        "y_test = to_categorical(y_test, 10)\n",
        "model = models.Sequential()\n",
        "model.add(layers.Conv2D(32, (3, 3), activation='relu', input_shape=(32, 32, 3)))\n",
        "model.add(layers.MaxPooling2D((2, 2)))\n",
        "model.add(layers.Conv2D(64, (3, 3), activation='relu'))\n",
        "model.add(layers.MaxPooling2D((2, 2)))\n",
        "\n",
        "\n",
        "model.add(layers.Conv2D(64, (3, 3), activation='relu'))\n",
        "\n",
        "model.add(layers.Flatten())  # Flatten the 3D data to 1D\n",
        "model.add(layers.Dense(64, activation='relu'))\n",
        "\n",
        "model.add(layers.Dense(10, activation='softmax'))  # 10 classes for CIFAR-10\n",
        "\n",
        "model.compile(optimizer='adam',\n",
        "              loss='categorical_crossentropy',\n",
        "              metrics=['accuracy'])\n",
        "model.fit(x_train, y_train, epochs=10, batch_size=64, validation_data=(x_test, y_test))\n",
        "\n",
        "test_loss, test_acc = model.evaluate(x_test, y_test)\n",
        "print(f\"Test Accuracy: {test_acc}\")\n"
      ],
      "metadata": {
        "colab": {
          "base_uri": "https://localhost:8080/"
        },
        "id": "hUj8ImdCTc2l",
        "outputId": "21388c97-2f9f-4bd7-f9df-d25551a09072"
      },
      "execution_count": null,
      "outputs": [
        {
          "output_type": "stream",
          "name": "stdout",
          "text": [
            "Epoch 1/10\n",
            "\u001b[1m782/782\u001b[0m \u001b[32m━━━━━━━━━━━━━━━━━━━━\u001b[0m\u001b[37m\u001b[0m \u001b[1m73s\u001b[0m 89ms/step - accuracy: 0.3252 - loss: 1.8200 - val_accuracy: 0.4996 - val_loss: 1.3971\n",
            "Epoch 2/10\n",
            "\u001b[1m782/782\u001b[0m \u001b[32m━━━━━━━━━━━━━━━━━━━━\u001b[0m\u001b[37m\u001b[0m \u001b[1m77s\u001b[0m 83ms/step - accuracy: 0.5553 - loss: 1.2538 - val_accuracy: 0.5993 - val_loss: 1.1442\n",
            "Epoch 3/10\n",
            "\u001b[1m782/782\u001b[0m \u001b[32m━━━━━━━━━━━━━━━━━━━━\u001b[0m\u001b[37m\u001b[0m \u001b[1m82s\u001b[0m 82ms/step - accuracy: 0.6137 - loss: 1.0955 - val_accuracy: 0.6071 - val_loss: 1.1152\n",
            "Epoch 4/10\n",
            "\u001b[1m782/782\u001b[0m \u001b[32m━━━━━━━━━━━━━━━━━━━━\u001b[0m\u001b[37m\u001b[0m \u001b[1m83s\u001b[0m 84ms/step - accuracy: 0.6528 - loss: 0.9893 - val_accuracy: 0.6457 - val_loss: 1.0077\n",
            "Epoch 5/10\n",
            "\u001b[1m782/782\u001b[0m \u001b[32m━━━━━━━━━━━━━━━━━━━━\u001b[0m\u001b[37m\u001b[0m \u001b[1m81s\u001b[0m 83ms/step - accuracy: 0.6797 - loss: 0.9116 - val_accuracy: 0.6797 - val_loss: 0.9355\n",
            "Epoch 6/10\n",
            "\u001b[1m782/782\u001b[0m \u001b[32m━━━━━━━━━━━━━━━━━━━━\u001b[0m\u001b[37m\u001b[0m \u001b[1m81s\u001b[0m 81ms/step - accuracy: 0.7042 - loss: 0.8497 - val_accuracy: 0.6762 - val_loss: 0.9130\n",
            "Epoch 7/10\n",
            "\u001b[1m782/782\u001b[0m \u001b[32m━━━━━━━━━━━━━━━━━━━━\u001b[0m\u001b[37m\u001b[0m \u001b[1m65s\u001b[0m 83ms/step - accuracy: 0.7248 - loss: 0.7871 - val_accuracy: 0.6998 - val_loss: 0.8698\n",
            "Epoch 8/10\n",
            "\u001b[1m782/782\u001b[0m \u001b[32m━━━━━━━━━━━━━━━━━━━━\u001b[0m\u001b[37m\u001b[0m \u001b[1m66s\u001b[0m 85ms/step - accuracy: 0.7386 - loss: 0.7457 - val_accuracy: 0.7076 - val_loss: 0.8532\n",
            "Epoch 9/10\n",
            "\u001b[1m782/782\u001b[0m \u001b[32m━━━━━━━━━━━━━━━━━━━━\u001b[0m\u001b[37m\u001b[0m \u001b[1m80s\u001b[0m 81ms/step - accuracy: 0.7553 - loss: 0.7039 - val_accuracy: 0.6867 - val_loss: 0.9292\n",
            "Epoch 10/10\n",
            "\u001b[1m782/782\u001b[0m \u001b[32m━━━━━━━━━━━━━━━━━━━━\u001b[0m\u001b[37m\u001b[0m \u001b[1m83s\u001b[0m 83ms/step - accuracy: 0.7681 - loss: 0.6670 - val_accuracy: 0.7189 - val_loss: 0.8318\n",
            "\u001b[1m313/313\u001b[0m \u001b[32m━━━━━━━━━━━━━━━━━━━━\u001b[0m\u001b[37m\u001b[0m \u001b[1m5s\u001b[0m 16ms/step - accuracy: 0.7259 - loss: 0.8145\n",
            "Test Accuracy: 0.7189000248908997\n"
          ]
        }
      ]
    },
    {
      "cell_type": "code",
      "source": [
        "import numpy as np\n",
        "\n",
        "# Load the MNIST dataset\n",
        "from keras.datasets import mnist  # Keep for dataset loading\n",
        "(x_train, y_train), (x_test, y_test) = mnist.load_data()\n",
        "\n",
        "# Preprocess data\n",
        "img_rows, img_cols = 28, 28\n",
        "x_train = x_train.reshape(x_train.shape[0], -1) / 255.0  # Flatten and normalize\n",
        "x_test = x_test.reshape(x_test.shape[0], -1) / 255.0\n",
        "y_train = np.eye(10)[y_train]  # One-hot encode labels\n",
        "y_test = np.eye(10)[y_test]\n",
        "\n",
        "# Define neural network structure\n",
        "input_size = img_rows * img_cols\n",
        "hidden_size = 128\n",
        "output_size = 10\n",
        "\n",
        "# Initialize weights and biases\n",
        "np.random.seed(0)\n",
        "W1 = np.random.randn(input_size, hidden_size) * 0.01  # Input to hidden\n",
        "b1 = np.zeros((1, hidden_size))\n",
        "W2 = np.random.randn(hidden_size, output_size) * 0.01  # Hidden to output\n",
        "b2 = np.zeros((1, output_size))\n",
        "\n",
        "def relu(Z):\n",
        "    return np.maximum(0, Z)\n",
        "\n",
        "def softmax(Z):\n",
        "    expZ = np.exp(Z - np.max(Z, axis=1, keepdims=True))\n",
        "    return expZ / np.sum(expZ, axis=1, keepdims=True)\n",
        "\n",
        "\n",
        "def compute_loss(y_true, y_pred):\n",
        "    m = y_true.shape[0]\n",
        "    loss = -np.sum(y_true * np.log(y_pred + 1e-8)) / m\n",
        "    return loss\n",
        "\n",
        "\n",
        "def forward_propagation(X):\n",
        "    Z1 = np.dot(X, W1) + b1\n",
        "    A1 = relu(Z1)\n",
        "    Z2 = np.dot(A1, W2) + b2\n",
        "    A2 = softmax(Z2)\n",
        "    cache = (Z1, A1, Z2, A2)\n",
        "    return A2, cache\n",
        "\n",
        "\n",
        "def backward_propagation(X, y_true, cache):\n",
        "    Z1, A1, Z2, A2 = cache\n",
        "    m = X.shape[0]\n",
        "\n",
        "    dZ2 = A2 - y_true\n",
        "    dW2 = np.dot(A1.T, dZ2) / m\n",
        "    db2 = np.sum(dZ2, axis=0, keepdims=True) / m\n",
        "\n",
        "    dA1 = np.dot(dZ2, W2.T)\n",
        "    dZ1 = dA1 * (Z1 > 0)\n",
        "    dW1 = np.dot(X.T, dZ1) / m\n",
        "    db1 = np.sum(dZ1, axis=0, keepdims=True) / m\n",
        "\n",
        "    gradients = {\"dW1\": dW1, \"db1\": db1, \"dW2\": dW2, \"db2\": db2}\n",
        "    return gradients\n",
        "\n",
        "def update_parameters(gradients, learning_rate=0.01):\n",
        "    global W1, b1, W2, b2\n",
        "    W1 -= learning_rate * gradients[\"dW1\"]\n",
        "    b1 -= learning_rate * gradients[\"db1\"]\n",
        "    W2 -= learning_rate * gradients[\"dW2\"]\n",
        "    b2 -= learning_rate * gradients[\"db2\"]\n",
        "\n",
        "\n",
        "epochs = 12\n",
        "batch_size = 128\n",
        "learning_rate = 0.01\n",
        "\n",
        "for epoch in range(epochs):\n",
        "    permutation = np.random.permutation(x_train.shape[0])\n",
        "    x_train_shuffled = x_train[permutation]\n",
        "    y_train_shuffled = y_train[permutation]\n",
        "\n",
        "    for i in range(0, x_train.shape[0], batch_size):\n",
        "        X_batch = x_train_shuffled[i:i + batch_size]\n",
        "        y_batch = y_train_shuffled[i:i + batch_size]\n",
        "\n",
        "\n",
        "        y_pred, cache = forward_propagation(X_batch)\n",
        "\n",
        "\n",
        "        loss = compute_loss(y_batch, y_pred)\n",
        "\n",
        "\n",
        "        gradients = backward_propagation(X_batch, y_batch, cache)\n",
        "\n",
        "        update_parameters(gradients, learning_rate)\n",
        "\n",
        "    print(f\"Epoch {epoch + 1}/{epochs}, Loss: {loss}\")\n",
        "\n",
        "y_pred_test, _ = forward_propagation(x_test)\n",
        "accuracy = np.mean(np.argmax(y_pred_test, axis=1) == np.argmax(y_test, axis=1))\n",
        "print(f\"Test Accuracy: {accuracy * 100:.2f}%\")"
      ],
      "metadata": {
        "colab": {
          "base_uri": "https://localhost:8080/"
        },
        "id": "GlgCiERtY1da",
        "outputId": "10b61c1b-b019-41f8-8739-3948f50173c3"
      },
      "execution_count": null,
      "outputs": [
        {
          "output_type": "stream",
          "name": "stdout",
          "text": [
            "Epoch 1/12, Loss: 2.0163838755265746\n",
            "Epoch 2/12, Loss: 0.9243883642628719\n",
            "Epoch 3/12, Loss: 0.6144868623603666\n",
            "Epoch 4/12, Loss: 0.4771324992696265\n",
            "Epoch 5/12, Loss: 0.4873274247057939\n",
            "Epoch 6/12, Loss: 0.5715835026055163\n",
            "Epoch 7/12, Loss: 0.31621481243045024\n",
            "Epoch 8/12, Loss: 0.4018104819224308\n",
            "Epoch 9/12, Loss: 0.4461538720639369\n",
            "Epoch 10/12, Loss: 0.23430398637446945\n",
            "Epoch 11/12, Loss: 0.45801338057748103\n",
            "Epoch 12/12, Loss: 0.2464558854451697\n",
            "Test Accuracy: 91.16%\n"
          ]
        }
      ]
    }
  ]
}